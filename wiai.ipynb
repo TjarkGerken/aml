{
 "cells": [
  {
   "metadata": {},
   "cell_type": "markdown",
   "source": [
    "```python 1\n",
    " dt = 0 . 01 # time since last measurement\n",
    "2\n",
    "3 err = target - measurement\n",
    "4 d_err = err - last_err\n",
    "5 last_err = err\n",
    "6\n",
    "7 prop = Kp * err\n",
    "8 integr += Ki * err * dt\n",
    "9 deriv = Kd * d_err / dt\n",
    "10\n",
    "11 output = prop + integr + deriv\n"
   ],
   "id": "cb3d4d7a2a7011bd"
  },
  {
   "cell_type": "code",
   "id": "initial_id",
   "metadata": {
    "collapsed": true,
    "ExecuteTime": {
     "end_time": "2024-12-10T10:40:08.054545Z",
     "start_time": "2024-12-10T10:40:08.045208Z"
    }
   },
   "source": [
    "Kp= 2\n",
    "Kd=0.3 \n",
    "Ki = 0.5\n",
    "\n",
    "def  steuer(dt, last_err, target, sensor_rs, integr, Kp, Kd, Ki):\n",
    "    \"\"\"\n",
    "    \n",
    "    :param dt: Delta Time since last measurement \n",
    "    :param last_err: The last result from the Sensor \n",
    "    :param target: the target variable\n",
    "    :param sensor_rs: The current sensor result\n",
    "    :param integr: The integral part of the controller if there were any previous calculations. Else this is 0\n",
    "    :param Kp: The proportional part of the controller\n",
    "    :param Kd: The derivative part of the controller\n",
    "    :param Ki: The integral part of the controller\n",
    "    :return: \n",
    "    \"\"\"\n",
    "    err = target - sensor_rs\n",
    "    d_err = err - last_err\n",
    "    print(d_err)\n",
    "    prop = Kp * err\n",
    "    integr += Ki * err * dt\n",
    "    deriv = Kd * d_err / dt\n",
    "    return round(prop, 2), round(integr, 2), deriv\n",
    "\n",
    "\n",
    "prop, intgr, deriv = steuer(0.1, 3, 21, 18.3, 0, Kp, Kd, Ki)\n",
    "print(prop, intgr, deriv)\n",
    "print(f\"Result: {prop + intgr + deriv}\")\n"
   ],
   "outputs": [
    {
     "name": "stdout",
     "output_type": "stream",
     "text": [
      "-0.3000000000000007\n",
      "5.4 0.13 -0.900000000000002\n",
      "Result: 4.629999999999998\n"
     ]
    }
   ],
   "execution_count": 21
  },
  {
   "metadata": {},
   "cell_type": "code",
   "outputs": [],
   "execution_count": null,
   "source": "",
   "id": "37931d3ea24adbed"
  }
 ],
 "metadata": {
  "kernelspec": {
   "display_name": "Python 3",
   "language": "python",
   "name": "python3"
  },
  "language_info": {
   "codemirror_mode": {
    "name": "ipython",
    "version": 2
   },
   "file_extension": ".py",
   "mimetype": "text/x-python",
   "name": "python",
   "nbconvert_exporter": "python",
   "pygments_lexer": "ipython2",
   "version": "2.7.6"
  }
 },
 "nbformat": 4,
 "nbformat_minor": 5
}
